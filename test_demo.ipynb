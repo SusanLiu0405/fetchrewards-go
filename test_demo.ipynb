{
 "cells": [
  {
   "cell_type": "code",
   "execution_count": 52,
   "id": "9b35fac2",
   "metadata": {},
   "outputs": [
    {
     "name": "stdout",
     "output_type": "stream",
     "text": [
      "{\"id\":\"d4a04310-781f-4d66-9977-7a3556e57cf0\"}\n"
     ]
    }
   ],
   "source": [
    "import requests\n",
    "import json\n",
    " \n",
    "# Target URL\n",
    "url = 'http://localhost:8080/receipts/process'\n",
    " \n",
    "# Json request body\n",
    "data = {\n",
    "  \"retailer\": \"Target\",\n",
    "  \"purchaseDate\": \"2022-01-01\",\n",
    "  \"purchaseTime\": \"13:01\",\n",
    "  \"items\": [\n",
    "    {\n",
    "      \"shortDescription\": \"Mountain Dew 12PK\",\n",
    "      \"price\": \"6.49\"\n",
    "    },{\n",
    "      \"shortDescription\": \"Emils Cheese Pizza\",\n",
    "      \"price\": \"12.25\"\n",
    "    },{\n",
    "      \"shortDescription\": \"Knorr Creamy Chicken\",\n",
    "      \"price\": \"1.26\"\n",
    "    },{\n",
    "      \"shortDescription\": \"Doritos Nacho Cheese\",\n",
    "      \"price\": \"3.35\"\n",
    "    },{\n",
    "      \"shortDescription\": \"   Klarbrunn 12-PK 12 FL OZ  \",\n",
    "      \"price\": \"12.00\"\n",
    "    }\n",
    "  ],\n",
    "  \"total\": \"35.35\"\n",
    "}\n",
    " \n",
    "# send a post request with the request body\n",
    "response = requests.post(url, json=data)\n",
    " \n",
    "# print the response\n",
    "print(response.text)\n"
   ]
  },
  {
   "cell_type": "code",
   "execution_count": 53,
   "id": "1e836377",
   "metadata": {},
   "outputs": [
    {
     "data": {
      "text/plain": [
       "str"
      ]
     },
     "execution_count": 53,
     "metadata": {},
     "output_type": "execute_result"
    }
   ],
   "source": [
    "type(response.text)"
   ]
  },
  {
   "cell_type": "code",
   "execution_count": 54,
   "id": "5a6f36f7",
   "metadata": {},
   "outputs": [],
   "source": [
    "json_obj = json.loads(response.text)"
   ]
  },
  {
   "cell_type": "code",
   "execution_count": 55,
   "id": "334003a8",
   "metadata": {},
   "outputs": [
    {
     "data": {
      "text/plain": [
       "dict"
      ]
     },
     "execution_count": 55,
     "metadata": {},
     "output_type": "execute_result"
    }
   ],
   "source": [
    "type(json_obj)"
   ]
  },
  {
   "cell_type": "code",
   "execution_count": 56,
   "id": "610bf890",
   "metadata": {},
   "outputs": [],
   "source": [
    "headers = {\n",
    "    'Content-Type': 'application/json',\n",
    "}"
   ]
  },
  {
   "cell_type": "code",
   "execution_count": 57,
   "id": "93018216",
   "metadata": {},
   "outputs": [],
   "source": [
    "get_string = json_obj[\"id\"]"
   ]
  },
  {
   "cell_type": "code",
   "execution_count": 58,
   "id": "7a5b7b6f",
   "metadata": {},
   "outputs": [
    {
     "data": {
      "text/plain": [
       "'d4a04310-781f-4d66-9977-7a3556e57cf0'"
      ]
     },
     "execution_count": 58,
     "metadata": {},
     "output_type": "execute_result"
    }
   ],
   "source": [
    "get_string"
   ]
  },
  {
   "cell_type": "code",
   "execution_count": 59,
   "id": "99852dca",
   "metadata": {},
   "outputs": [],
   "source": [
    "get_uril = \"http://localhost:8080/receipts/\"+get_string+\"/points\""
   ]
  },
  {
   "cell_type": "code",
   "execution_count": 60,
   "id": "944a511a",
   "metadata": {},
   "outputs": [
    {
     "data": {
      "text/plain": [
       "{'Content-Type': 'application/json'}"
      ]
     },
     "execution_count": 60,
     "metadata": {},
     "output_type": "execute_result"
    }
   ],
   "source": [
    "headers"
   ]
  },
  {
   "cell_type": "code",
   "execution_count": 61,
   "id": "29c714e9",
   "metadata": {},
   "outputs": [],
   "source": [
    "response_get = requests.get(get_uril, headers=headers)"
   ]
  },
  {
   "cell_type": "code",
   "execution_count": 62,
   "id": "ebab100e",
   "metadata": {},
   "outputs": [
    {
     "name": "stdout",
     "output_type": "stream",
     "text": [
      "{\"points\":28}\n"
     ]
    }
   ],
   "source": [
    "print(response_get.text)"
   ]
  }
 ],
 "metadata": {
  "kernelspec": {
   "display_name": "Python 3 (ipykernel)",
   "language": "python",
   "name": "python3"
  },
  "language_info": {
   "codemirror_mode": {
    "name": "ipython",
    "version": 3
   },
   "file_extension": ".py",
   "mimetype": "text/x-python",
   "name": "python",
   "nbconvert_exporter": "python",
   "pygments_lexer": "ipython3",
   "version": "3.7.7"
  }
 },
 "nbformat": 4,
 "nbformat_minor": 5
}
